{
 "cells": [
  {
   "cell_type": "code",
   "execution_count": 1,
   "id": "1b9937f8",
   "metadata": {},
   "outputs": [
    {
     "name": "stdout",
     "output_type": "stream",
     "text": [
      "Enter Your Age24\n",
      "enter the unit you want to cal age tom\n",
      "you lived for 288 months\n",
      "enter the unit you want to cal age tow\n",
      "you lived for 1152 weeks\n",
      "enter the unit you want to cal age tod\n",
      "you lived for 8760 days\n",
      "enter the unit you want to cal age toh\n",
      "you lived for 210240 hours\n",
      "enter the unit you want to cal age tos\n",
      "you lived for 756864000 seconds\n",
      "enter the unit you want to cal age toexit\n",
      "Exit!!!\n"
     ]
    }
   ],
   "source": [
    "def survival_cal(age):\n",
    "\n",
    "    months = age * 12\n",
    "    weeks = months * 4\n",
    "    days = age * 365\n",
    "    hours = days * 24\n",
    "    minutes = hours * 60\n",
    "    seconds = minutes * 60\n",
    "    \n",
    "    while True:\n",
    "        \n",
    "        unit = input(\"enter the unit you want to cal age to\")\n",
    "\n",
    "        if unit == \"months\" or unit == \"m\":\n",
    "            print(f\"you lived for {months} months\")\n",
    "        elif unit == \"weeks\" or unit == \"w\":\n",
    "            print(f\"you lived for {weeks} weeks\")\n",
    "        elif unit == \"days\" or unit == \"d\":\n",
    "            print(f\"you lived for {days} days\")\n",
    "        elif unit == \"hours\" or unit == \"h\":\n",
    "            print(f\"you lived for {hours} hours\")\n",
    "        elif unit == \"minutes\" or unit == \"min\":\n",
    "            print(f\"you lived for {minutes} minutes\")\n",
    "        elif unit == \"seconds\" or unit == \"s\":\n",
    "            print(f\"you lived for {seconds} seconds\")\n",
    "        elif unit == \"exit\":\n",
    "            print(f\"Exit!!!\")\n",
    "            break\n",
    "        else:\n",
    "            print(\"Invalid Unit\")\n",
    "\n",
    "\n",
    "if __name__ == \"__main__\":\n",
    "    cal_age = int(input(\"Enter Your Age :\"))\n",
    "    survival_cal(cal_age)"
   ]
  },
  {
   "cell_type": "code",
   "execution_count": null,
   "id": "ab308c96",
   "metadata": {},
   "outputs": [],
   "source": []
  }
 ],
 "metadata": {
  "kernelspec": {
   "display_name": "Python 3 (ipykernel)",
   "language": "python",
   "name": "python3"
  },
  "language_info": {
   "codemirror_mode": {
    "name": "ipython",
    "version": 3
   },
   "file_extension": ".py",
   "mimetype": "text/x-python",
   "name": "python",
   "nbconvert_exporter": "python",
   "pygments_lexer": "ipython3",
   "version": "3.11.5"
  }
 },
 "nbformat": 4,
 "nbformat_minor": 5
}
