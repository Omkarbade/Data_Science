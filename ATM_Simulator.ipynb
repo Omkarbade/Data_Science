{
 "cells": [
  {
   "cell_type": "code",
   "execution_count": 6,
   "id": "bec37cee",
   "metadata": {
    "id": "bec37cee",
    "outputId": "5682da4c-1683-4786-9216-d3f8190142e5"
   },
   "outputs": [
    {
     "name": "stdout",
     "output_type": "stream",
     "text": [
      "Welcome to the ATM Machine\n",
      "Please Enter Your Pin :12345\n",
      "1. Withdrawal\n",
      "2. Deposit\n",
      "3.Check Balance\n",
      "4. Exit\n",
      "Choose your Options :1\n",
      "Enter withdrawal amount :4000\n",
      "Cash has been withdrawal ,your available balance is: 6000\n",
      "1. Withdrawal\n",
      "2. Deposit\n",
      "3.Check Balance\n",
      "4. Exit\n",
      "Choose your Options :2\n",
      "Enter deposit amount :300\n",
      "Cash has been deposited ,your available balance is : 6300\n",
      "1. Withdrawal\n",
      "2. Deposit\n",
      "3.Check Balance\n",
      "4. Exit\n",
      "Choose your Options :3\n",
      "your available balance is : 6300\n",
      "1. Withdrawal\n",
      "2. Deposit\n",
      "3.Check Balance\n",
      "4. Exit\n",
      "Choose your Options :4\n",
      "Thank you, Visit Again!\n"
     ]
    }
   ],
   "source": [
    "\n",
    "def atm_simulator(total_amount):\n",
    "    print(\"Welcome to the ATM Machine\")\n",
    "    pin = int(input(\"Please Enter Your Pin :\"))\n",
    "    if len(str(pin)) != 5:\n",
    "        print(\"Invalid Pin\")\n",
    "        return \n",
    "\n",
    "    while True:\n",
    "        print(\"1. Withdrawal\"\n",
    "              \"\\n2. Deposit\"\n",
    "              \"\\n3.Check Balance\"\n",
    "              \"\\n4. Exit\")\n",
    "\n",
    "        choice = int(input(\"Choose your Options :\"))\n",
    "        if choice == 1:\n",
    "            withdrawal_amt = int(input(\"Enter withdrawal amount :\"))\n",
    "            if withdrawal_amt < total_amount:\n",
    "                total_amount -= withdrawal_amt\n",
    "                print(f\"Cash has been withdrawal ,your available balance is: {total_amount}\")\n",
    "            else:\n",
    "                print(\"You have Insufficient Balance\")\n",
    "        elif choice == 2:\n",
    "            deposit_amt = int(input(\"Enter deposit amount :\"))\n",
    "            total_amount += deposit_amt\n",
    "            print(f\"Cash has been deposited ,your available balance is : {total_amount}\")\n",
    "        elif choice == 3:\n",
    "            print(f\"your available balance is : {total_amount}\")\n",
    "        elif choice == 4:\n",
    "            print(\"Thank you, Visit Again!\")\n",
    "            return\n",
    "        else:\n",
    "            print(\"Invalid choice , Try Again!\")\n",
    "\n",
    "\n",
    "if __name__ == \"__main__\":\n",
    "    amt = 10000\n",
    "    atm_simulator(amt)\n",
    "\n"
   ]
  }
 ],
 "metadata": {
  "colab": {
   "provenance": []
  },
  "kernelspec": {
   "display_name": "Python 3 (ipykernel)",
   "language": "python",
   "name": "python3"
  },
  "language_info": {
   "codemirror_mode": {
    "name": "ipython",
    "version": 3
   },
   "file_extension": ".py",
   "mimetype": "text/x-python",
   "name": "python",
   "nbconvert_exporter": "python",
   "pygments_lexer": "ipython3",
   "version": "3.11.5"
  }
 },
 "nbformat": 4,
 "nbformat_minor": 5
}
